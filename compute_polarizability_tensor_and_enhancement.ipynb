{
 "cells": [
  {
   "cell_type": "code",
   "execution_count": 25,
   "metadata": {},
   "outputs": [],
   "source": [
    "import numpy as np"
   ]
  },
  {
   "cell_type": "code",
   "execution_count": 26,
   "metadata": {},
   "outputs": [],
   "source": [
    "field_omega = np.load(\"E_FIELD_OMEGA_DAT.npy\").astype(complex)\n",
    "moment_omega = np.load(\"MOM_OMEGA_DAT.npy\").astype(complex)\n",
    "field_omega_init = np.load(\"E_FIELD_INIT_OMEGA_DAT.npy\").astype(complex)"
   ]
  },
  {
   "cell_type": "code",
   "execution_count": 27,
   "metadata": {},
   "outputs": [],
   "source": [
    "mode_num = 27"
   ]
  },
  {
   "cell_type": "code",
   "execution_count": 28,
   "metadata": {},
   "outputs": [],
   "source": [
    "def kroenecker_delta(i,j):\n",
    "    if i == j:\n",
    "        return 1\n",
    "    else:\n",
    "        return 0"
   ]
  },
  {
   "cell_type": "code",
   "execution_count": 31,
   "metadata": {},
   "outputs": [],
   "source": [
    "alpha = np.zeros((2,2,27,3,3)).astype(complex)\n",
    "lamb = np.zeros((2,2,27,3,3)).astype(complex)\n",
    "\n",
    "for p in range(2):\n",
    "    for mp in range(2):\n",
    "        for m in range(mode_num):\n",
    "            for i in range(3):\n",
    "                for j in range(3):\n",
    "                    alpha[p][mp][m][i][j] = moment_omega[p][mp][m][i]/field_omega[p][mp][m][j]\n",
    "                    lamb[p][mp][m][i][j] = field_omega[p][mp][m][i]/field_omega_init[p][mp][m][j] - kroenecker_delta(i,j)"
   ]
  },
  {
   "cell_type": "code",
   "execution_count": 32,
   "metadata": {},
   "outputs": [],
   "source": [
    "np.save(\"alpha\",alpha)\n",
    "np.save(\"lambda\",lamb)"
   ]
  }
 ],
 "metadata": {
  "kernelspec": {
   "display_name": "Python 3",
   "language": "python",
   "name": "python3"
  },
  "language_info": {
   "codemirror_mode": {
    "name": "ipython",
    "version": 3
   },
   "file_extension": ".py",
   "mimetype": "text/x-python",
   "name": "python",
   "nbconvert_exporter": "python",
   "pygments_lexer": "ipython3",
   "version": "3.8.2"
  }
 },
 "nbformat": 4,
 "nbformat_minor": 4
}
