{
 "cells": [
  {
   "cell_type": "code",
   "execution_count": 1,
   "metadata": {},
   "outputs": [],
   "source": [
    "import numpy as np"
   ]
  },
  {
   "cell_type": "code",
   "execution_count": 2,
   "metadata": {},
   "outputs": [
    {
     "name": "stdout",
     "output_type": "stream",
     "text": [
      "(2, 2, 27, 3)\n",
      "(2, 2, 27, 3)\n",
      "(2, 2, 27, 3)\n",
      "(2, 1, 27, 3)\n",
      "(2, 1, 27, 3)\n",
      "(2, 1, 27, 3)\n"
     ]
    }
   ],
   "source": [
    "field_omega = np.load(\"E_FIELD_OMEGA_DAT.npy\").astype(complex)\n",
    "moment_omega = np.load(\"MOM_OMEGA_DAT.npy\").astype(complex)\n",
    "field_omega_init = np.load(\"E_FIELD_INIT_OMEGA_DAT.npy\").astype(complex)\n",
    "\n",
    "field_omega_sample = np.load(\"E_FIELD_OMEGA_DAT_SAMPLE.npy\").astype(complex)\n",
    "moment_omega_sample = np.load(\"MOM_OMEGA_DAT_SAMPLE.npy\").astype(complex)\n",
    "field_omega_init_sample = np.load(\"E_FIELD_INIT_OMEGA_DAT_SAMPLE.npy\").astype(complex)\n",
    "\n",
    "print(field_omega.shape)\n",
    "print(moment_omega.shape)\n",
    "print(field_omega_init.shape)\n",
    "print(field_omega_sample.shape)\n",
    "print(moment_omega_sample.shape)\n",
    "print(field_omega_init_sample.shape)"
   ]
  },
  {
   "cell_type": "code",
   "execution_count": 3,
   "metadata": {},
   "outputs": [],
   "source": [
    "mode_num = 27"
   ]
  },
  {
   "cell_type": "code",
   "execution_count": 4,
   "metadata": {},
   "outputs": [],
   "source": [
    "def kroenecker_delta(i,j):\n",
    "    if i == j:\n",
    "        return 1\n",
    "    else:\n",
    "        return 0"
   ]
  },
  {
   "cell_type": "code",
   "execution_count": 6,
   "metadata": {},
   "outputs": [],
   "source": [
    "alpha = np.zeros((2,3,mode_num,3,3)).astype(complex)\n",
    "lamb = np.zeros((2,3,mode_num,3,3)).astype(complex)\n",
    "\n",
    "for p in range(2):\n",
    "    for mp in range(3):\n",
    "        for m in range(mode_num):\n",
    "            for i in range(3):\n",
    "                for j in range(3):\n",
    "                    if mp < 2:\n",
    "                        alpha[p][mp][m][i][j] = moment_omega[p][mp][m][i]/field_omega[p][mp][m][j]\n",
    "                        lamb[p][mp][m][i][j] = field_omega[p][mp][m][i]/field_omega_init[p][mp][m][j] - kroenecker_delta(i,j)\n",
    "                    else:\n",
    "                        alpha[p][2][m][i][j] = moment_omega_sample[p][0][m][i]/field_omega_sample[p][0][m][j]\n",
    "                        lamb[p][2][m][i][j] = field_omega_sample[p][0][m][i]/field_omega_init_sample[p][0][m][j] - kroenecker_delta(i,j)\n",
    "     "
   ]
  },
  {
   "cell_type": "code",
   "execution_count": 7,
   "metadata": {},
   "outputs": [],
   "source": [
    "np.save(\"alpha\",alpha)\n",
    "np.save(\"lambda\",lamb)"
   ]
  },
  {
   "cell_type": "code",
   "execution_count": null,
   "metadata": {},
   "outputs": [],
   "source": []
  },
  {
   "cell_type": "code",
   "execution_count": null,
   "metadata": {},
   "outputs": [],
   "source": []
  }
 ],
 "metadata": {
  "kernelspec": {
   "display_name": "Python 3",
   "language": "python",
   "name": "python3"
  },
  "language_info": {
   "codemirror_mode": {
    "name": "ipython",
    "version": 3
   },
   "file_extension": ".py",
   "mimetype": "text/x-python",
   "name": "python",
   "nbconvert_exporter": "python",
   "pygments_lexer": "ipython3",
   "version": "3.8.2"
  }
 },
 "nbformat": 4,
 "nbformat_minor": 4
}
