{
 "cells": [
  {
   "cell_type": "code",
   "execution_count": 28,
   "metadata": {},
   "outputs": [],
   "source": [
    "import numpy as np"
   ]
  },
  {
   "cell_type": "code",
   "execution_count": 29,
   "metadata": {},
   "outputs": [],
   "source": [
    "# DIPOLE in units of Debye, which is 0.393430307 au. The atomic unit of the dipole is 1 au of dipole = ea_0.\n",
    "# EFIELD in units of au, 1 au of efield is e/(a_0^2).\n",
    "# TIME in units of au, 1 au of time is a_0/(α·c).\n",
    "#     FREQUENCY in units of cm^-1, which is actually a wavenumber. To get in au units,\n",
    "# multiply by 2π*100*c*2.418884326509e-17\n",
    "field_data = np.load('E_FIELD_DAT.npy').astype(complex)\n",
    "init_field_data = np.load('E_FIELD_INIT_DAT.npy').astype(complex)\n",
    "moment_data = np.load('MOM_DAT.npy').astype(complex)*0.393430307\n",
    "init_moment_data = np.load('MOM_INIT_DAT.npy').astype(complex)*0.393430307"
   ]
  },
  {
   "cell_type": "code",
   "execution_count": 30,
   "metadata": {},
   "outputs": [],
   "source": [
    "atom_num = 11\n",
    "mode_num = 27\n",
    "t_num = 4000"
   ]
  },
  {
   "cell_type": "code",
   "execution_count": 31,
   "metadata": {},
   "outputs": [],
   "source": [
    "with open(\"PYRIDINE-VIBRATIONS-1.mol\") as f:\n",
    "    omegas = np.array(f.readlines()[atom_num+3:atom_num+mode_num+3]).astype(float)*2*np.pi*100*299792458*2.418884326509e-17"
   ]
  },
  {
   "cell_type": "code",
   "execution_count": 32,
   "metadata": {},
   "outputs": [],
   "source": [
    "from scipy.integrate import simps\n",
    "\n",
    "ts = np.linspace(0.01,40,4000,endpoint=True)\n",
    "\n",
    "DATA_FIELD_OMEGA = []\n",
    "DATA_FIELD_INIT_OMEGA = []\n",
    "DATA_MOMENT_OMEGA = []\n",
    "POL_X, POL_Y = [], []\n",
    "POL_X_INIT, POL_Y_INIT = [], []\n",
    "POL_X_MOMENT, POL_Y_MOMENT = [], []\n",
    "MINUS_MODE, PLUS_MODE = [], []\n",
    "MINUS_MODE_INIT, PLUS_MODE_INIT = [], []\n",
    "MINUS_MODE_MOMENT, PLUS_MODE_MOMENT = [], []\n",
    "\n",
    "for p in range(2):\n",
    "    for mp in range(2):\n",
    "        for m in range(mode_num):\n",
    "            induced_dipole = moment_data[p][mp][m] - init_moment_data[p][mp][m]\n",
    "            # Energy of 1 Hartree (au of energy) is 27.211 eV, gamma is 0.1 eV\n",
    "            exp_factor = np.exp((1j*omegas[m]-0.1/27.211386245988)*ts)\n",
    "            id_times_exp = np.multiply(induced_dipole,exp_factor)\n",
    "            integral_x = simps(id_times_exp[0],ts)\n",
    "            integral_y = simps(id_times_exp[1],ts)\n",
    "            integral_z = simps(id_times_exp[2],ts)\n",
    "            integral = [integral_x,integral_y, integral_z]\n",
    "            \n",
    "            if mp == 0:\n",
    "                MINUS_MODE_MOMENT.append(integral)\n",
    "            else:\n",
    "                PLUS_MODE_MOMENT.append(integral)\n",
    "                \n",
    "            exp_factor = np.exp(1j*omegas[m]*ts)\n",
    "            ef_times_exp = np.multiply(field_data[p][mp][m],exp_factor)\n",
    "            integral_x = simps(ef_times_exp[0],ts)\n",
    "            integral_y = simps(ef_times_exp[1],ts)\n",
    "            integral_z = simps(ef_times_exp[2],ts)\n",
    "            integral = [integral_x,integral_y, integral_z]\n",
    "            \n",
    "            if mp == 0:\n",
    "                MINUS_MODE.append(integral)\n",
    "            else:\n",
    "                PLUS_MODE.append(integral)\n",
    "                \n",
    "            ef_times_exp = np.multiply(init_field_data[p][mp][m],exp_factor)\n",
    "            integral_x = simps(ef_times_exp[0],ts)\n",
    "            integral_y = simps(ef_times_exp[1],ts)\n",
    "            integral_z = simps(ef_times_exp[2],ts)\n",
    "            integral = [integral_x,integral_y, integral_z]\n",
    "            \n",
    "            if mp == 0:\n",
    "                MINUS_MODE_INIT.append(integral)\n",
    "            else:\n",
    "                PLUS_MODE_INIT.append(integral)\n",
    "            \n",
    "    if p == 0: \n",
    "        POL_X_MOMENT.append(MINUS_MODE_MOMENT)\n",
    "        POL_X_MOMENT.append(PLUS_MODE_MOMENT)\n",
    "        POL_X.append(MINUS_MODE)\n",
    "        POL_X.append(PLUS_MODE)\n",
    "        POL_X_INIT.append(MINUS_MODE_INIT)\n",
    "        POL_X_INIT.append(PLUS_MODE_INIT)\n",
    "        \n",
    "    else:\n",
    "        POL_Y_MOMENT.append(MINUS_MODE_MOMENT)\n",
    "        POL_Y_MOMENT.append(PLUS_MODE_MOMENT)\n",
    "        POL_Y.append(MINUS_MODE)\n",
    "        POL_Y.append(PLUS_MODE)\n",
    "        POL_Y_INIT.append(MINUS_MODE_INIT)\n",
    "        POL_Y_INIT.append(PLUS_MODE_INIT)      \n",
    "    \n",
    "    MINUS_MODE, PLUS_MODE = [], []\n",
    "    MINUS_MODE_INIT, PLUS_MODE_INIT = [], []\n",
    "    MINUS_MODE_MOMENT, PLUS_MODE_MOMENT = [], []\n",
    "            \n",
    "DATA_FIELD_OMEGA.append(POL_X)\n",
    "DATA_FIELD_OMEGA.append(POL_Y)\n",
    "DATA_FIELD_INIT_OMEGA.append(POL_X_INIT)\n",
    "DATA_FIELD_INIT_OMEGA.append(POL_Y_INIT)            \n",
    "DATA_MOMENT_OMEGA.append(POL_X_MOMENT)\n",
    "DATA_MOMENT_OMEGA.append(POL_X_MOMENT)         "
   ]
  },
  {
   "cell_type": "code",
   "execution_count": 33,
   "metadata": {},
   "outputs": [
    {
     "name": "stdout",
     "output_type": "stream",
     "text": [
      "(2, 2, 27, 3)\n",
      "(2, 2, 27, 3)\n",
      "(2, 2, 27, 3)\n"
     ]
    }
   ],
   "source": [
    "DATA_FIELD_OMEGA = np.array(DATA_FIELD_OMEGA)\n",
    "print(DATA_FIELD_OMEGA.shape)\n",
    "DATA_MOMENT_OMEGA = np.array(DATA_MOMENT_OMEGA)\n",
    "print(DATA_MOMENT_OMEGA.shape)\n",
    "DATA_FIELD_INIT_OMEGA = np.array(DATA_FIELD_INIT_OMEGA)\n",
    "print(DATA_FIELD_INIT_OMEGA.shape)"
   ]
  },
  {
   "cell_type": "code",
   "execution_count": 34,
   "metadata": {},
   "outputs": [],
   "source": [
    "np.save(\"E_FIELD_OMEGA_DAT\",DATA_FIELD_OMEGA)\n",
    "np.save(\"MOM_OMEGA_DAT\",DATA_MOMENT_OMEGA)\n",
    "np.save(\"E_FIELD_INIT_OMEGA_DAT\",DATA_FIELD_INIT_OMEGA)"
   ]
  },
  {
   "cell_type": "code",
   "execution_count": 35,
   "metadata": {},
   "outputs": [],
   "source": [
    "# DIPOLE in units of Debye, which is 0.393430307 au. The atomic unit of the dipole is 1 au of dipole = ea_0.\n",
    "# EFIELD in units of au, 1 au of efield is e/(a_0^2).\n",
    "# TIME in units of au, 1 au of time is a_0/(α·c).\n",
    "#     FREQUENCY in units of cm^-1, which is actually a wavenumber. To get in au units,\n",
    "# multiply by 2π*100*c*2.418884326509e-17\n",
    "field_data = np.load('E_FIELD_DAT_SAMPLE.npy').astype(complex)\n",
    "init_field_data = np.load('E_FIELD_INIT_DAT_SAMPLE.npy').astype(complex)\n",
    "moment_data = np.load('MOM_DAT_SAMPLE.npy').astype(complex)*0.393430307\n",
    "init_moment_data = np.load('MOM_INIT_DAT_SAMPLE.npy').astype(complex)*0.393430307"
   ]
  },
  {
   "cell_type": "code",
   "execution_count": 36,
   "metadata": {},
   "outputs": [],
   "source": [
    "DATA_FIELD_OMEGA = []\n",
    "DATA_FIELD_INIT_OMEGA = []\n",
    "DATA_MOMENT_OMEGA = []\n",
    "POL_X, POL_Y = [], []\n",
    "POL_X_INIT, POL_Y_INIT = [], []\n",
    "POL_X_MOMENT, POL_Y_MOMENT = [], []\n",
    "MINUS_MODE = []\n",
    "MINUS_MODE_INIT = []\n",
    "MINUS_MODE_MOMENT = []\n",
    "\n",
    "for p in range(2):\n",
    "    for m in range(mode_num):\n",
    "        induced_dipole = moment_data[p][0][0] - init_moment_data[p][0][0]\n",
    "        # Energy of 1 Hartree (au of energy) is 27.211 eV, gamma is 0.1 eV\n",
    "        exp_factor = np.exp((1j*omegas[m]-0.1/27.211386245988)*ts)\n",
    "        id_times_exp = np.multiply(induced_dipole,exp_factor)\n",
    "        integral_x = simps(id_times_exp[0],ts)\n",
    "        integral_y = simps(id_times_exp[1],ts)\n",
    "        integral_z = simps(id_times_exp[2],ts)\n",
    "        integral = [integral_x,integral_y, integral_z]\n",
    "\n",
    "        MINUS_MODE_MOMENT.append(integral)\n",
    "\n",
    "        exp_factor = np.exp(1j*omegas[m]*ts)\n",
    "        ef_times_exp = np.multiply(field_data[p][0][0],exp_factor)\n",
    "        integral_x = simps(ef_times_exp[0],ts)\n",
    "        integral_y = simps(ef_times_exp[1],ts)\n",
    "        integral_z = simps(ef_times_exp[2],ts)\n",
    "        integral = [integral_x,integral_y, integral_z]\n",
    "\n",
    "        MINUS_MODE.append(integral)\n",
    "\n",
    "        ef_times_exp = np.multiply(init_field_data[p][0][0],exp_factor)\n",
    "        integral_x = simps(ef_times_exp[0],ts)\n",
    "        integral_y = simps(ef_times_exp[1],ts)\n",
    "        integral_z = simps(ef_times_exp[2],ts)\n",
    "        integral = [integral_x,integral_y, integral_z]\n",
    "\n",
    "        MINUS_MODE_INIT.append(integral)\n",
    "            \n",
    "    if p == 0: \n",
    "        POL_X_MOMENT.append(MINUS_MODE_MOMENT)\n",
    "        POL_X.append(MINUS_MODE)\n",
    "        POL_X_INIT.append(MINUS_MODE_INIT)\n",
    "        \n",
    "    else:\n",
    "        POL_Y_MOMENT.append(MINUS_MODE_MOMENT)\n",
    "        POL_Y.append(MINUS_MODE)\n",
    "        POL_Y_INIT.append(MINUS_MODE_INIT)   \n",
    "    \n",
    "    MINUS_MODE=[]\n",
    "    MINUS_MODE_INIT=[]\n",
    "    MINUS_MODE_MOMENT=[]\n",
    "            \n",
    "DATA_FIELD_OMEGA.append(POL_X)\n",
    "DATA_FIELD_OMEGA.append(POL_Y)\n",
    "DATA_FIELD_INIT_OMEGA.append(POL_X_INIT)\n",
    "DATA_FIELD_INIT_OMEGA.append(POL_Y_INIT)            \n",
    "DATA_MOMENT_OMEGA.append(POL_X_MOMENT)\n",
    "DATA_MOMENT_OMEGA.append(POL_X_MOMENT)         "
   ]
  },
  {
   "cell_type": "code",
   "execution_count": 37,
   "metadata": {},
   "outputs": [
    {
     "name": "stdout",
     "output_type": "stream",
     "text": [
      "(2, 1, 27, 3)\n",
      "(2, 1, 27, 3)\n",
      "(2, 1, 27, 3)\n"
     ]
    }
   ],
   "source": [
    "DATA_FIELD_OMEGA = np.array(DATA_FIELD_OMEGA)\n",
    "print(DATA_FIELD_OMEGA.shape)\n",
    "DATA_MOMENT_OMEGA = np.array(DATA_MOMENT_OMEGA)\n",
    "print(DATA_MOMENT_OMEGA.shape)\n",
    "DATA_FIELD_INIT_OMEGA = np.array(DATA_FIELD_INIT_OMEGA)\n",
    "print(DATA_FIELD_INIT_OMEGA.shape)"
   ]
  },
  {
   "cell_type": "code",
   "execution_count": 38,
   "metadata": {},
   "outputs": [],
   "source": [
    "np.save(\"E_FIELD_OMEGA_DAT_SAMPLE\",DATA_FIELD_OMEGA)\n",
    "np.save(\"MOM_OMEGA_DAT_SAMPLE\",DATA_MOMENT_OMEGA)\n",
    "np.save(\"E_FIELD_INIT_OMEGA_DAT_SAMPLE\",DATA_FIELD_INIT_OMEGA)"
   ]
  },
  {
   "cell_type": "code",
   "execution_count": null,
   "metadata": {},
   "outputs": [],
   "source": []
  }
 ],
 "metadata": {
  "kernelspec": {
   "display_name": "Python 3",
   "language": "python",
   "name": "python3"
  },
  "language_info": {
   "codemirror_mode": {
    "name": "ipython",
    "version": 3
   },
   "file_extension": ".py",
   "mimetype": "text/x-python",
   "name": "python",
   "nbconvert_exporter": "python",
   "pygments_lexer": "ipython3",
   "version": "3.8.2"
  }
 },
 "nbformat": 4,
 "nbformat_minor": 4
}
